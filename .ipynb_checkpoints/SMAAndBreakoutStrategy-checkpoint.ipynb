{
 "cells": [
  {
   "cell_type": "code",
   "execution_count": 1,
   "id": "db40d346",
   "metadata": {},
   "outputs": [],
   "source": [
    "import pandas as pd\n",
    "import warnings\n",
    "import yfinance as yf\n",
    "import matplotlib.pyplot as plt\n",
    "%matplotlib inline\n",
    "plt.style.use('seaborn-darkgrid')\n",
    "warnings.filterwarnings(\"ignore\")\n",
    "\n",
    "\n",
    "data = pd.read_html('https://en.wikipedia.org/wiki/List_of_S%26P_500_companies', header=0)\n",
    "\n",
    "stocks = pd.DataFrame(data[0])\n"
   ]
  },
  {
   "cell_type": "code",
   "execution_count": null,
   "id": "20a92519",
   "metadata": {},
   "outputs": [
    {
     "name": "stdout",
     "output_type": "stream",
     "text": [
      "[*********             18%                       ]  91 of 503 completed"
     ]
    }
   ],
   "source": [
    "stocks.Symbol = stocks.Symbol.str.replace(\".\", \"-\")\n",
    "stocks.set_index('Symbol', inplace=True, drop=True)\n",
    "stock_prices = yf.download(list(stocks.index), '2022-1-1', auto_adjust=True, group_by='Symbol')\n"
   ]
  },
  {
   "cell_type": "code",
   "execution_count": null,
   "id": "8ffb64bb",
   "metadata": {},
   "outputs": [],
   "source": [
    "stock_prices.columns.levels\n",
    "\n",
    "stock_prices = stock_prices.drop(['Open', 'High', 'Low', 'Volume'], level=1, axis=1)\n",
    "stock_prices.tail()"
   ]
  },
  {
   "cell_type": "code",
   "execution_count": null,
   "id": "ea58e898",
   "metadata": {},
   "outputs": [],
   "source": [
    "# Calculate top volatility decile\n",
    "\n",
    "stock_prices.index = pd.to_datetime(stock_prices.index)"
   ]
  },
  {
   "cell_type": "code",
   "execution_count": null,
   "id": "98d90a05",
   "metadata": {},
   "outputs": [],
   "source": [
    "price_pct_change = stock_prices.pct_change()\n",
    "price_pct_change.columns"
   ]
  },
  {
   "cell_type": "code",
   "execution_count": null,
   "id": "2800018c",
   "metadata": {},
   "outputs": [],
   "source": [
    "# calculate standard deviation\n",
    "stock_std = price_pct_change.std()\n",
    "stock_std.axes"
   ]
  },
  {
   "cell_type": "code",
   "execution_count": null,
   "id": "f37fd3c3",
   "metadata": {},
   "outputs": [],
   "source": [
    "volatility_sort = stock_std.sort_values(ascending=False)\n",
    "volatility_sort\n",
    "topdecile = volatility_sort[:int(len(stock_std)*0.1)]\n",
    "print(topdecile.count())\n",
    "topdecile.plot.bar(figsize=(16,7),color='green',ylim=topdecile.min()*0.9)\n",
    "plt.title('Volatility deciles', fontsize=14)\n",
    "plt.xlabel('Stocks')\n",
    "plt.ylabel('Annualised Volatility')\n",
    "plt.show()"
   ]
  },
  {
   "cell_type": "code",
   "execution_count": null,
   "id": "9255590f",
   "metadata": {},
   "outputs": [],
   "source": [
    "stock_prices_pc = stock_prices.loc['2022-1':,topdecile.index]\n",
    "\n",
    "stock_prices_pc = stock_prices.pct_change()\n"
   ]
  },
  {
   "cell_type": "code",
   "execution_count": null,
   "id": "f12aa7ee",
   "metadata": {},
   "outputs": [],
   "source": [
    "top_vol_decile.index"
   ]
  },
  {
   "cell_type": "code",
   "execution_count": null,
   "id": "eaf10ed4",
   "metadata": {},
   "outputs": [],
   "source": [
    "\n",
    "portfolio = pd.DataFrame()\n",
    "portfolio['returns'] = stock_prices_pc.mean(axis=1)\n",
    "portfolio['value'] = (portfolio+1).cumprod()\n",
    "portfolio = portfolio.dropna()\n",
    "portfolio.value.plot(color='b',figsize=(10,7))\n",
    "plt.ylabel(\"Portfolio value\")\n",
    "plt.show()"
   ]
  },
  {
   "cell_type": "code",
   "execution_count": null,
   "id": "34604aaf",
   "metadata": {},
   "outputs": [],
   "source": [
    "import numpy as np\n",
    "def get_strategy_returns_sma(portfolio):\n",
    "    # Calculate the simple moving average of period 10\n",
    "    portfolio['sma10'] = portfolio.value.rolling(window=50).mean()\n",
    "    # Create a trading signal\n",
    "    portfolio['signal'] = np.where(portfolio.value > portfolio.sma10,1,0)\n",
    "    # Calculate the strategy returns\n",
    "    portfolio['str_returns'] = portfolio['returns'].shift(-1) * portfolio['signal']\n",
    "    return portfolio\n",
    "\n",
    "def plot_signal(portfolio):\n",
    "    portfolio['value'].plot(color='blue')    \n",
    "    plt.fill_between(portfolio.index, portfolio.value, where=(portfolio.signal==1), facecolor='g', alpha=0.2)      \n",
    "    plt.legend()\n",
    "    plt.ylabel('Portfolio Value',color='r')\n",
    "    # Plot the signal values    \n",
    "    portfolio['signal'].plot(secondary_y=True,figsize=(15,10),color='grey', linestyle='dotted')\n",
    "    plt.ylabel('Signal',color='r')\n",
    "    plt.show()\n",
    "\n",
    "portfolio = get_strategy_returns_sma(portfolio)    \n",
    "plot_signal(portfolio)  "
   ]
  },
  {
   "cell_type": "code",
   "execution_count": null,
   "id": "b257c2bb",
   "metadata": {},
   "outputs": [],
   "source": [
    "def plot_returns_dd(portfolio):\n",
    "    # ----------- Sharpe ratio ------------------\n",
    "    sharpe_ratio = np.mean(portfolio.str_returns)/np.std(portfolio.str_returns)*(252**0.5)\n",
    "    print('The Sharpe ratio is %.2f ' % sharpe_ratio)\n",
    "\n",
    "    # ----------- Cumulative strategy returns ------------------\n",
    "    portfolio['cum_str_returns'] = (portfolio['str_returns']+1).cumprod()\n",
    "    # Plot the cumulative strategy returns\n",
    "    portfolio['cum_str_returns'].plot(figsize=(10,7), color='green')\n",
    "    plt.title('Strategy Returns', fontsize=14)\n",
    "    plt.ylabel('Cumulative returns')\n",
    "    plt.show()        \n",
    "\n",
    "    # ----------- Drawdown ------------------    \n",
    "    # Calculate the running maximum\n",
    "    running_max = np.maximum.accumulate(portfolio['cum_str_returns'].dropna())\n",
    "    # Ensure the value never drops below 1\n",
    "    running_max[running_max < 1] = 1\n",
    "    # Calculate the percentage drawdown\n",
    "    drawdown = (portfolio['cum_str_returns'])/running_max - 1\n",
    "    max_dd = drawdown.min()*100\n",
    "    print('The maximum drawdown is %.2f' % max_dd)\n",
    "    # Plot the drawdowns\n",
    "    drawdown.plot(color='r',figsize=(10,10))\n",
    "    plt.ylabel('Returns')\n",
    "    plt.fill_between(drawdown.index, drawdown, color='red')\n",
    "    plt.grid(which=\"major\", color='k', linestyle='-.', linewidth=0.2)\n",
    "    plt.show()    \n",
    "    \n",
    "plot_returns_dd(portfolio)   "
   ]
  },
  {
   "cell_type": "code",
   "execution_count": null,
   "id": "5d6d478f",
   "metadata": {},
   "outputs": [],
   "source": [
    "def get_strategy_returns_breakout(portfolio):\n",
    "    # Calculate the breakout indicator values\n",
    "    portfolio['high'] = portfolio.value.rolling(window=3).max()\n",
    "    # Create a trading signal\n",
    "    portfolio['signal'] = np.where(portfolio.value>=portfolio.high,1,0)\n",
    "    # Calculate the strategy returns\n",
    "    portfolio['str_returns'] = portfolio['returns'].shift(-1) * portfolio['signal']\n",
    "    return portfolio\n",
    "\n",
    "portfolio = get_strategy_returns_breakout(portfolio)\n",
    "# plot_signal(portfolio)    \n",
    "plot_returns_dd(portfolio)"
   ]
  },
  {
   "cell_type": "code",
   "execution_count": null,
   "id": "e37c1f30",
   "metadata": {},
   "outputs": [],
   "source": [
    "\n",
    "def get_strategy_returns_sma_breakout(portfolio):\n",
    "    # Calculate the simple moving average \n",
    "    sma20 = portfolio.value > portfolio.value.rolling(window=20).mean()\n",
    "    # Calculate the breakout indicator values\n",
    "    breakout = portfolio.value>=portfolio.value.rolling(window=20).max()\n",
    "   \n",
    "    \n",
    "    # Create a trading signal\n",
    "    portfolio['signal'] = np.where(sma20 & breakout > 0.55 ,1,0)\n",
    "\n",
    "    # Calculate the strategy returns\n",
    "    portfolio['str_returns'] = portfolio['returns'].shift(-1) * portfolio['signal']\n",
    "    return portfolio\n",
    "\n",
    "\n",
    "def plot_signal(portfolio):\n",
    "    portfolio['value'].plot(color='blue')    \n",
    "    plt.fill_between(portfolio.index, portfolio.value, where=(portfolio.signal==1), facecolor='g', alpha=0.2)      \n",
    "    plt.legend()\n",
    "    plt.ylabel('Portfolio Value',color='r')\n",
    "    # Plot the signal values    \n",
    "    portfolio['signal'].plot(secondary_y=True,figsize=(15,10),color='grey', linestyle='dotted')\n",
    "    plt.ylabel('Signal',color='r')\n",
    "    plt.show()\n",
    "    \n",
    "portfolio = get_strategy_returns_sma_breakout(portfolio)\n",
    "plot_signal(portfolio)    \n",
    "plot_returns_dd(portfolio)\n"
   ]
  },
  {
   "cell_type": "code",
   "execution_count": null,
   "id": "336d8a19",
   "metadata": {},
   "outputs": [],
   "source": []
  },
  {
   "cell_type": "code",
   "execution_count": null,
   "id": "e4f86ee9",
   "metadata": {},
   "outputs": [],
   "source": []
  }
 ],
 "metadata": {
  "kernelspec": {
   "display_name": "Python 3 (ipykernel)",
   "language": "python",
   "name": "python3"
  },
  "language_info": {
   "codemirror_mode": {
    "name": "ipython",
    "version": 3
   },
   "file_extension": ".py",
   "mimetype": "text/x-python",
   "name": "python",
   "nbconvert_exporter": "python",
   "pygments_lexer": "ipython3",
   "version": "3.9.12"
  }
 },
 "nbformat": 4,
 "nbformat_minor": 5
}
